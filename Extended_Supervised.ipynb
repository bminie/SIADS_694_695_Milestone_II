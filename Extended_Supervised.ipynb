{
 "cells": [
  {
   "cell_type": "markdown",
   "source": [
    "# Supervised Learning Extension\r\n",
    "Attempt to improve performance through creating additional features from under-represented classes.  "
   ],
   "metadata": {}
  },
  {
   "cell_type": "code",
   "execution_count": 17,
   "source": [
    "# load dependencies\r\n",
    "import pandas as pd\r\n",
    "import numpy as np\r\n",
    "%matplotlib inline\r\n",
    "import matplotlib.pyplot as plt\r\n",
    "\r\n",
    "from sklearn.metrics import accuracy_score\r\n",
    "from sklearn.metrics import confusion_matrix\r\n",
    "from sklearn.metrics import classification_report\r\n",
    "from sklearn.metrics import precision_recall_fscore_support\r\n",
    "from imblearn.over_sampling import SMOTE\r\n",
    "from sklearn.ensemble import GradientBoostingClassifier\r\n",
    "from sklearn.ensemble import RandomForestClassifier\r\n",
    "\r\n",
    "RANDOM_SEED = 42"
   ],
   "outputs": [],
   "metadata": {}
  },
  {
   "cell_type": "code",
   "execution_count": 75,
   "source": [
    "#Load PC10 data - best performing number of PC\r\n",
    "train_file = \"data/X_train_10_PCs.csv\"\r\n",
    "test_file = \"data/X_test_10_PCs.csv\"\r\n",
    "ytrain_file = 'data/y_train.csv'\r\n",
    "ytest_file = 'data/y_test.csv'\r\n",
    "\r\n",
    "PCA_X_train = pd.read_csv(train_file)\r\n",
    "PCA_X_train.rename(columns={\"Unnamed: 0\": \"CellID\"}, inplace = True)\r\n",
    "PCA_X_train.set_index('CellID', inplace = True)\r\n",
    "\r\n",
    "PCA_X_test = pd.read_csv(test_file)\r\n",
    "PCA_X_test.rename(columns={\"Unnamed: 0\": \"CellID\"}, inplace = True)\r\n",
    "PCA_X_test.set_index('CellID', inplace = True)\r\n",
    "\r\n",
    "y_train = pd.read_csv(ytrain_file)\r\n",
    "y_train.set_index('CellID', inplace = True)\r\n",
    "\r\n",
    "y_test = pd.read_csv(ytest_file)\r\n",
    "y_test.set_index('CellID', inplace = True)"
   ],
   "outputs": [],
   "metadata": {}
  },
  {
   "cell_type": "code",
   "execution_count": 76,
   "source": [
    "# Rebalance Data Set\r\n",
    "sm = SMOTE(random_state=RANDOM_SEED)\r\n",
    "X_train, y_train_res = sm.fit_resample(PCA_X_train, y_train)"
   ],
   "outputs": [],
   "metadata": {}
  },
  {
   "cell_type": "code",
   "execution_count": 85,
   "source": [
    "# create booleen targets for underperforming classes. ONLY training data\r\n",
    "# underperformning cells are DC, NK, RBC, pDC\r\n",
    "target_DC = y_train_res['type'] == 'DC'\r\n",
    "target_DC = target_DC.astype(int)\r\n",
    "\r\n",
    "target_NK = y_train_res['type'] == 'NK'\r\n",
    "target_NK = target_NK.astype(int)\r\n",
    "\r\n",
    "target_RBC = y_train_res['type'] == 'RBC'\r\n",
    "target_RBC = target_RBC.astype(int)\r\n",
    "\r\n",
    "target_pDC = y_train_res['type'] == 'pDC'\r\n",
    "target_pDC = target_pDC.astype(int)"
   ],
   "outputs": [],
   "metadata": {}
  },
  {
   "cell_type": "code",
   "execution_count": 88,
   "source": [
    "# try random forest \r\n",
    "random_forest_DC = RandomForestClassifier(random_state=RANDOM_SEED).fit(X_train, target_DC)\r\n",
    "target_DC = random_forest_DC.predict(X_train)\r\n",
    "print(\"DC\",np.unique(target_DC, return_counts=True))\r\n",
    "\r\n",
    "random_forest_NK = RandomForestClassifier(random_state=RANDOM_SEED).fit(X_train, target_NK)\r\n",
    "target_NK = random_forest_NK.predict(X_train)\r\n",
    "print(\"NK\",np.unique(target_NK, return_counts=True))\r\n",
    "\r\n",
    "random_forest_RBC = RandomForestClassifier(random_state=RANDOM_SEED).fit(X_train, target_RBC)\r\n",
    "target_RBC = random_forest_RBC.predict(X_train)\r\n",
    "print(\"RBC\",np.unique(target_RBC, return_counts=True))\r\n",
    "\r\n",
    "random_forest_pDC = RandomForestClassifier(random_state=RANDOM_SEED).fit(X_train, target_pDC)\r\n",
    "target_pDC = random_forest_pDC.predict(X_train)\r\n",
    "print(\"pDC\",np.unique(target_pDC, return_counts=True))"
   ],
   "outputs": [
    {
     "output_type": "stream",
     "name": "stdout",
     "text": [
      "DC (array([0, 1]), array([130182,  10014], dtype=int64))\n",
      "NK (array([0, 1]), array([130182,  10014], dtype=int64))\n",
      "RBC (array([0, 1]), array([130182,  10014], dtype=int64))\n",
      "pDC (array([0, 1]), array([130182,  10014], dtype=int64))\n"
     ]
    }
   ],
   "metadata": {}
  },
  {
   "cell_type": "code",
   "execution_count": 89,
   "source": [
    "# create dataframe with additional features for training set\r\n",
    "augmented_train_df = X_train.copy(deep=True)\r\n",
    "augmented_train_df['label_DC'] = target_DC\r\n",
    "augmented_train_df['label_NK'] = target_NK\r\n",
    "augmented_train_df['label_RBC'] = target_RBC\r\n",
    "augmented_train_df['label_pDC'] = target_pDC\r\n",
    "\r\n",
    " "
   ],
   "outputs": [],
   "metadata": {}
  },
  {
   "cell_type": "code",
   "execution_count": 90,
   "source": [
    "# create dataframe with additional features for test set\r\n",
    "# labels for test set come from model trained on training set\r\n",
    "augmented_test_df = PCA_X_test.copy(deep=True)\r\n",
    "augmented_test_df['label_DC'] = random_forest_DC.predict(PCA_X_test)\r\n",
    "augmented_test_df['label_NK'] = random_forest_NK.predict(PCA_X_test)\r\n",
    "augmented_test_df['label_RBC'] = random_forest_RBC.predict(PCA_X_test)\r\n",
    "augmented_test_df['label_pDC'] = random_forest_pDC.predict(PCA_X_test)"
   ],
   "outputs": [],
   "metadata": {}
  },
  {
   "cell_type": "code",
   "execution_count": 91,
   "source": [
    "# Load function from Supervised Learning code\r\n",
    "def generate_class_dataframe(model, model_name, input_name, X_test, y_test):\r\n",
    "    class_report = classification_report(y_test['type'], model.predict(X_test), zero_division = 0, output_dict = True)\r\n",
    "    df = pd.DataFrame.from_dict({key: class_report[key] for key in class_report if key not in [\"support\", \"accuracy\", \"macro avg\", \"weighted avg\"]}, orient='index')\r\n",
    "    midx = pd.MultiIndex.from_arrays([[model_name]*len(df.columns), [input_name]*len(df.columns), df.columns])\r\n",
    "    df.columns = midx\r\n",
    "    return df"
   ],
   "outputs": [],
   "metadata": {}
  },
  {
   "cell_type": "code",
   "execution_count": 94,
   "source": [
    "random_forest_dataframes = []\r\n",
    "random_forest = RandomForestClassifier(random_state=RANDOM_SEED).fit(X_train, y_train_res['type'])\r\n",
    "random_forest_dataframes.append(generate_class_dataframe(random_forest, \"Random Forest\", \"Control\", PCA_X_test, y_test))\r\n",
    "\r\n",
    "random_forest_aug = RandomForestClassifier(random_state=RANDOM_SEED).fit(augmented_train_df, y_train_res['type'])\r\n",
    "random_forest_dataframes.append(generate_class_dataframe(random_forest_aug, \"Random Forest\", \"Augmented\", augmented_test_df, y_test))\r\n"
   ],
   "outputs": [],
   "metadata": {}
  },
  {
   "cell_type": "code",
   "execution_count": 96,
   "source": [
    "rf_df = pd.concat(random_forest_dataframes,axis =1)"
   ],
   "outputs": [],
   "metadata": {}
  },
  {
   "cell_type": "code",
   "execution_count": 97,
   "source": [
    "rf_df"
   ],
   "outputs": [
    {
     "output_type": "execute_result",
     "data": {
      "text/html": [
       "<div>\n",
       "<style scoped>\n",
       "    .dataframe tbody tr th:only-of-type {\n",
       "        vertical-align: middle;\n",
       "    }\n",
       "\n",
       "    .dataframe tbody tr th {\n",
       "        vertical-align: top;\n",
       "    }\n",
       "\n",
       "    .dataframe thead tr th {\n",
       "        text-align: left;\n",
       "    }\n",
       "</style>\n",
       "<table border=\"1\" class=\"dataframe\">\n",
       "  <thead>\n",
       "    <tr>\n",
       "      <th></th>\n",
       "      <th colspan=\"8\" halign=\"left\">Random Forest</th>\n",
       "    </tr>\n",
       "    <tr>\n",
       "      <th></th>\n",
       "      <th colspan=\"4\" halign=\"left\">Control</th>\n",
       "      <th colspan=\"4\" halign=\"left\">Augmented</th>\n",
       "    </tr>\n",
       "    <tr>\n",
       "      <th></th>\n",
       "      <th>precision</th>\n",
       "      <th>recall</th>\n",
       "      <th>f1-score</th>\n",
       "      <th>support</th>\n",
       "      <th>precision</th>\n",
       "      <th>recall</th>\n",
       "      <th>f1-score</th>\n",
       "      <th>support</th>\n",
       "    </tr>\n",
       "  </thead>\n",
       "  <tbody>\n",
       "    <tr>\n",
       "      <th>Alveolar</th>\n",
       "      <td>0.968085</td>\n",
       "      <td>0.989130</td>\n",
       "      <td>0.978495</td>\n",
       "      <td>92</td>\n",
       "      <td>0.978495</td>\n",
       "      <td>0.989130</td>\n",
       "      <td>0.983784</td>\n",
       "      <td>92</td>\n",
       "    </tr>\n",
       "    <tr>\n",
       "      <th>B cell</th>\n",
       "      <td>0.958920</td>\n",
       "      <td>0.955556</td>\n",
       "      <td>0.957235</td>\n",
       "      <td>855</td>\n",
       "      <td>0.957697</td>\n",
       "      <td>0.953216</td>\n",
       "      <td>0.955451</td>\n",
       "      <td>855</td>\n",
       "    </tr>\n",
       "    <tr>\n",
       "      <th>CD4 T</th>\n",
       "      <td>0.864156</td>\n",
       "      <td>0.855592</td>\n",
       "      <td>0.859853</td>\n",
       "      <td>2119</td>\n",
       "      <td>0.868533</td>\n",
       "      <td>0.863615</td>\n",
       "      <td>0.866067</td>\n",
       "      <td>2119</td>\n",
       "    </tr>\n",
       "    <tr>\n",
       "      <th>CD8 T</th>\n",
       "      <td>0.859082</td>\n",
       "      <td>0.859768</td>\n",
       "      <td>0.859425</td>\n",
       "      <td>2503</td>\n",
       "      <td>0.857583</td>\n",
       "      <td>0.890132</td>\n",
       "      <td>0.873554</td>\n",
       "      <td>2503</td>\n",
       "    </tr>\n",
       "    <tr>\n",
       "      <th>DC</th>\n",
       "      <td>0.825000</td>\n",
       "      <td>0.326733</td>\n",
       "      <td>0.468085</td>\n",
       "      <td>101</td>\n",
       "      <td>0.852941</td>\n",
       "      <td>0.287129</td>\n",
       "      <td>0.429630</td>\n",
       "      <td>101</td>\n",
       "    </tr>\n",
       "    <tr>\n",
       "      <th>Endothelial</th>\n",
       "      <td>0.993651</td>\n",
       "      <td>0.987382</td>\n",
       "      <td>0.990506</td>\n",
       "      <td>317</td>\n",
       "      <td>0.987500</td>\n",
       "      <td>0.996845</td>\n",
       "      <td>0.992151</td>\n",
       "      <td>317</td>\n",
       "    </tr>\n",
       "    <tr>\n",
       "      <th>Epithelial</th>\n",
       "      <td>1.000000</td>\n",
       "      <td>0.976744</td>\n",
       "      <td>0.988235</td>\n",
       "      <td>43</td>\n",
       "      <td>1.000000</td>\n",
       "      <td>0.953488</td>\n",
       "      <td>0.976190</td>\n",
       "      <td>43</td>\n",
       "    </tr>\n",
       "    <tr>\n",
       "      <th>Mast</th>\n",
       "      <td>0.991453</td>\n",
       "      <td>0.991453</td>\n",
       "      <td>0.991453</td>\n",
       "      <td>117</td>\n",
       "      <td>0.991453</td>\n",
       "      <td>0.991453</td>\n",
       "      <td>0.991453</td>\n",
       "      <td>117</td>\n",
       "    </tr>\n",
       "    <tr>\n",
       "      <th>Myeloid</th>\n",
       "      <td>0.948121</td>\n",
       "      <td>0.989503</td>\n",
       "      <td>0.968370</td>\n",
       "      <td>1810</td>\n",
       "      <td>0.947257</td>\n",
       "      <td>0.992265</td>\n",
       "      <td>0.969239</td>\n",
       "      <td>1810</td>\n",
       "    </tr>\n",
       "    <tr>\n",
       "      <th>NK</th>\n",
       "      <td>0.333333</td>\n",
       "      <td>0.488636</td>\n",
       "      <td>0.396313</td>\n",
       "      <td>176</td>\n",
       "      <td>0.398010</td>\n",
       "      <td>0.454545</td>\n",
       "      <td>0.424403</td>\n",
       "      <td>176</td>\n",
       "    </tr>\n",
       "    <tr>\n",
       "      <th>RBC</th>\n",
       "      <td>0.125000</td>\n",
       "      <td>0.069519</td>\n",
       "      <td>0.089347</td>\n",
       "      <td>187</td>\n",
       "      <td>0.117647</td>\n",
       "      <td>0.032086</td>\n",
       "      <td>0.050420</td>\n",
       "      <td>187</td>\n",
       "    </tr>\n",
       "    <tr>\n",
       "      <th>Stromal</th>\n",
       "      <td>0.983607</td>\n",
       "      <td>0.980392</td>\n",
       "      <td>0.981997</td>\n",
       "      <td>306</td>\n",
       "      <td>0.977124</td>\n",
       "      <td>0.977124</td>\n",
       "      <td>0.977124</td>\n",
       "      <td>306</td>\n",
       "    </tr>\n",
       "    <tr>\n",
       "      <th>Tumor</th>\n",
       "      <td>0.976616</td>\n",
       "      <td>0.985427</td>\n",
       "      <td>0.981002</td>\n",
       "      <td>1441</td>\n",
       "      <td>0.972640</td>\n",
       "      <td>0.986815</td>\n",
       "      <td>0.979676</td>\n",
       "      <td>1441</td>\n",
       "    </tr>\n",
       "    <tr>\n",
       "      <th>pDC</th>\n",
       "      <td>0.571429</td>\n",
       "      <td>0.400000</td>\n",
       "      <td>0.470588</td>\n",
       "      <td>20</td>\n",
       "      <td>0.800000</td>\n",
       "      <td>0.400000</td>\n",
       "      <td>0.533333</td>\n",
       "      <td>20</td>\n",
       "    </tr>\n",
       "  </tbody>\n",
       "</table>\n",
       "</div>"
      ],
      "text/plain": [
       "            Random Forest                                                  \\\n",
       "                  Control                             Augmented             \n",
       "                precision    recall  f1-score support precision    recall   \n",
       "Alveolar         0.968085  0.989130  0.978495      92  0.978495  0.989130   \n",
       "B cell           0.958920  0.955556  0.957235     855  0.957697  0.953216   \n",
       "CD4 T            0.864156  0.855592  0.859853    2119  0.868533  0.863615   \n",
       "CD8 T            0.859082  0.859768  0.859425    2503  0.857583  0.890132   \n",
       "DC               0.825000  0.326733  0.468085     101  0.852941  0.287129   \n",
       "Endothelial      0.993651  0.987382  0.990506     317  0.987500  0.996845   \n",
       "Epithelial       1.000000  0.976744  0.988235      43  1.000000  0.953488   \n",
       "Mast             0.991453  0.991453  0.991453     117  0.991453  0.991453   \n",
       "Myeloid          0.948121  0.989503  0.968370    1810  0.947257  0.992265   \n",
       "NK               0.333333  0.488636  0.396313     176  0.398010  0.454545   \n",
       "RBC              0.125000  0.069519  0.089347     187  0.117647  0.032086   \n",
       "Stromal          0.983607  0.980392  0.981997     306  0.977124  0.977124   \n",
       "Tumor            0.976616  0.985427  0.981002    1441  0.972640  0.986815   \n",
       "pDC              0.571429  0.400000  0.470588      20  0.800000  0.400000   \n",
       "\n",
       "                               \n",
       "                               \n",
       "             f1-score support  \n",
       "Alveolar     0.983784      92  \n",
       "B cell       0.955451     855  \n",
       "CD4 T        0.866067    2119  \n",
       "CD8 T        0.873554    2503  \n",
       "DC           0.429630     101  \n",
       "Endothelial  0.992151     317  \n",
       "Epithelial   0.976190      43  \n",
       "Mast         0.991453     117  \n",
       "Myeloid      0.969239    1810  \n",
       "NK           0.424403     176  \n",
       "RBC          0.050420     187  \n",
       "Stromal      0.977124     306  \n",
       "Tumor        0.979676    1441  \n",
       "pDC          0.533333      20  "
      ]
     },
     "metadata": {},
     "execution_count": 97
    }
   ],
   "metadata": {}
  },
  {
   "cell_type": "code",
   "execution_count": 98,
   "source": [
    "random_forest.feature_importances_"
   ],
   "outputs": [
    {
     "output_type": "execute_result",
     "data": {
      "text/plain": [
       "array([0.09396182, 0.12622239, 0.09651273, 0.09890227, 0.0445779 ,\n",
       "       0.0750174 , 0.1133225 , 0.13805172, 0.09427556, 0.11915572])"
      ]
     },
     "metadata": {},
     "execution_count": 98
    }
   ],
   "metadata": {}
  },
  {
   "cell_type": "code",
   "execution_count": 99,
   "source": [
    "random_forest_aug.feature_importances_"
   ],
   "outputs": [
    {
     "output_type": "execute_result",
     "data": {
      "text/plain": [
       "array([0.05949551, 0.07102648, 0.09252953, 0.0761815 , 0.0328631 ,\n",
       "       0.0450596 , 0.07629998, 0.10037082, 0.07101725, 0.08820362,\n",
       "       0.06805426, 0.07126624, 0.07765466, 0.06997745])"
      ]
     },
     "metadata": {},
     "execution_count": 99
    }
   ],
   "metadata": {}
  },
  {
   "cell_type": "code",
   "execution_count": 100,
   "source": [
    "rf_df.mean()"
   ],
   "outputs": [
    {
     "output_type": "execute_result",
     "data": {
      "text/plain": [
       "Random Forest  Control    precision      0.814175\n",
       "                          recall         0.775417\n",
       "                          f1-score       0.784350\n",
       "                          support      720.500000\n",
       "               Augmented  precision      0.836206\n",
       "                          recall         0.769132\n",
       "                          f1-score       0.785891\n",
       "                          support      720.500000\n",
       "dtype: float64"
      ]
     },
     "metadata": {},
     "execution_count": 100
    }
   ],
   "metadata": {}
  },
  {
   "cell_type": "code",
   "execution_count": null,
   "source": [],
   "outputs": [],
   "metadata": {}
  }
 ],
 "metadata": {
  "orig_nbformat": 4,
  "language_info": {
   "name": "python",
   "version": "3.8.10",
   "mimetype": "text/x-python",
   "codemirror_mode": {
    "name": "ipython",
    "version": 3
   },
   "pygments_lexer": "ipython3",
   "nbconvert_exporter": "python",
   "file_extension": ".py"
  },
  "kernelspec": {
   "name": "python3",
   "display_name": "Python 3.8.10 64-bit ('base': conda)"
  },
  "interpreter": {
   "hash": "155900fb6331d5736aec4713b07d24bade4cf8e58397548031232dbd4ae3977c"
  }
 },
 "nbformat": 4,
 "nbformat_minor": 2
}
{
 "cells": [
  {
   "cell_type": "markdown",
   "id": "114a25ac",
   "metadata": {},
   "source": [
    "Objective :  Take in PCA data, output cluster data with various models."
   ]
  },
  {
   "cell_type": "code",
   "execution_count": 2,
   "id": "cde3b35c",
   "metadata": {},
   "outputs": [],
   "source": [
    "import pandas as pd\n",
    "import numpy as np\n",
    "import matplotlib.pyplot as plt"
   ]
  },
  {
   "cell_type": "code",
   "execution_count": 14,
   "id": "25b9d0d8",
   "metadata": {},
   "outputs": [],
   "source": [
    "# input PCA data\n",
    "path = path = \"D:/milestone project/SIADS_694_695_Milestone_II/\"\n",
    "train_file = path + \"data/X_train_pca.csv\"\n",
    "PCA_X_train = pd.read_csv(train_file)"
   ]
  },
  {
   "cell_type": "code",
   "execution_count": 16,
   "id": "478adfd8",
   "metadata": {},
   "outputs": [
    {
     "data": {
      "text/plain": [
       "(40348, 100)"
      ]
     },
     "execution_count": 16,
     "metadata": {},
     "output_type": "execute_result"
    }
   ],
   "source": [
    "PCA_X_train.rename(columns={\"Unnamed: 0\": \"CellID\"}, inplace = True)\n",
    "PCA_X_train.set_index('CellID', inplace = True)\n",
    "PCA_X_train.shape"
   ]
  },
  {
   "cell_type": "code",
   "execution_count": 17,
   "id": "29b97df9",
   "metadata": {},
   "outputs": [
    {
     "data": {
      "text/html": [
       "<div>\n",
       "<style scoped>\n",
       "    .dataframe tbody tr th:only-of-type {\n",
       "        vertical-align: middle;\n",
       "    }\n",
       "\n",
       "    .dataframe tbody tr th {\n",
       "        vertical-align: top;\n",
       "    }\n",
       "\n",
       "    .dataframe thead th {\n",
       "        text-align: right;\n",
       "    }\n",
       "</style>\n",
       "<table border=\"1\" class=\"dataframe\">\n",
       "  <thead>\n",
       "    <tr style=\"text-align: right;\">\n",
       "      <th></th>\n",
       "      <th>PC_1</th>\n",
       "      <th>PC_2</th>\n",
       "      <th>PC_3</th>\n",
       "      <th>PC_4</th>\n",
       "      <th>PC_5</th>\n",
       "      <th>PC_6</th>\n",
       "      <th>PC_7</th>\n",
       "      <th>PC_8</th>\n",
       "      <th>PC_9</th>\n",
       "      <th>PC_10</th>\n",
       "      <th>...</th>\n",
       "      <th>PC_91</th>\n",
       "      <th>PC_92</th>\n",
       "      <th>PC_93</th>\n",
       "      <th>PC_94</th>\n",
       "      <th>PC_95</th>\n",
       "      <th>PC_96</th>\n",
       "      <th>PC_97</th>\n",
       "      <th>PC_98</th>\n",
       "      <th>PC_99</th>\n",
       "      <th>PC_100</th>\n",
       "    </tr>\n",
       "    <tr>\n",
       "      <th>CellID</th>\n",
       "      <th></th>\n",
       "      <th></th>\n",
       "      <th></th>\n",
       "      <th></th>\n",
       "      <th></th>\n",
       "      <th></th>\n",
       "      <th></th>\n",
       "      <th></th>\n",
       "      <th></th>\n",
       "      <th></th>\n",
       "      <th></th>\n",
       "      <th></th>\n",
       "      <th></th>\n",
       "      <th></th>\n",
       "      <th></th>\n",
       "      <th></th>\n",
       "      <th></th>\n",
       "      <th></th>\n",
       "      <th></th>\n",
       "      <th></th>\n",
       "      <th></th>\n",
       "    </tr>\n",
       "  </thead>\n",
       "  <tbody>\n",
       "    <tr>\n",
       "      <th>TCAGCTCCACTGTTAG_18</th>\n",
       "      <td>-4.992897</td>\n",
       "      <td>1.977498</td>\n",
       "      <td>2.635594</td>\n",
       "      <td>0.294221</td>\n",
       "      <td>-0.352566</td>\n",
       "      <td>0.480022</td>\n",
       "      <td>-0.607563</td>\n",
       "      <td>0.537431</td>\n",
       "      <td>0.354954</td>\n",
       "      <td>0.988225</td>\n",
       "      <td>...</td>\n",
       "      <td>-0.462457</td>\n",
       "      <td>0.087501</td>\n",
       "      <td>-0.052739</td>\n",
       "      <td>0.556482</td>\n",
       "      <td>0.054646</td>\n",
       "      <td>0.224667</td>\n",
       "      <td>-0.169349</td>\n",
       "      <td>0.542468</td>\n",
       "      <td>-0.846616</td>\n",
       "      <td>0.508633</td>\n",
       "    </tr>\n",
       "    <tr>\n",
       "      <th>TGCTGCTTCGTGGTCG_24</th>\n",
       "      <td>10.464980</td>\n",
       "      <td>-4.179799</td>\n",
       "      <td>10.248424</td>\n",
       "      <td>13.373024</td>\n",
       "      <td>-0.398263</td>\n",
       "      <td>-1.284958</td>\n",
       "      <td>2.211709</td>\n",
       "      <td>0.475666</td>\n",
       "      <td>-0.210211</td>\n",
       "      <td>2.024235</td>\n",
       "      <td>...</td>\n",
       "      <td>-1.277020</td>\n",
       "      <td>1.558242</td>\n",
       "      <td>-0.576477</td>\n",
       "      <td>0.078703</td>\n",
       "      <td>4.163578</td>\n",
       "      <td>-2.982152</td>\n",
       "      <td>2.011843</td>\n",
       "      <td>-2.500248</td>\n",
       "      <td>-2.785146</td>\n",
       "      <td>-0.459969</td>\n",
       "    </tr>\n",
       "    <tr>\n",
       "      <th>TAAACCGAGCCAGTTT_23</th>\n",
       "      <td>11.897502</td>\n",
       "      <td>10.368381</td>\n",
       "      <td>-9.752729</td>\n",
       "      <td>-0.730838</td>\n",
       "      <td>-6.437631</td>\n",
       "      <td>-3.039107</td>\n",
       "      <td>1.155987</td>\n",
       "      <td>-0.674261</td>\n",
       "      <td>1.225245</td>\n",
       "      <td>0.872170</td>\n",
       "      <td>...</td>\n",
       "      <td>-1.720728</td>\n",
       "      <td>2.017200</td>\n",
       "      <td>-0.437286</td>\n",
       "      <td>-0.466728</td>\n",
       "      <td>1.741292</td>\n",
       "      <td>2.205787</td>\n",
       "      <td>0.025304</td>\n",
       "      <td>0.891656</td>\n",
       "      <td>0.706868</td>\n",
       "      <td>-0.884583</td>\n",
       "    </tr>\n",
       "    <tr>\n",
       "      <th>GTAGTCACAGACAAGC_16</th>\n",
       "      <td>0.143768</td>\n",
       "      <td>-8.355670</td>\n",
       "      <td>-4.339652</td>\n",
       "      <td>-0.964086</td>\n",
       "      <td>1.019567</td>\n",
       "      <td>-0.285466</td>\n",
       "      <td>-0.621729</td>\n",
       "      <td>-0.871517</td>\n",
       "      <td>0.075749</td>\n",
       "      <td>-0.569461</td>\n",
       "      <td>...</td>\n",
       "      <td>-0.432216</td>\n",
       "      <td>0.092154</td>\n",
       "      <td>-0.113035</td>\n",
       "      <td>-0.005142</td>\n",
       "      <td>1.322794</td>\n",
       "      <td>-0.699368</td>\n",
       "      <td>0.830745</td>\n",
       "      <td>0.142501</td>\n",
       "      <td>0.077562</td>\n",
       "      <td>-0.580459</td>\n",
       "    </tr>\n",
       "    <tr>\n",
       "      <th>CTAATGGGTCCAACTA_14</th>\n",
       "      <td>-4.288423</td>\n",
       "      <td>1.525256</td>\n",
       "      <td>2.442547</td>\n",
       "      <td>-1.382999</td>\n",
       "      <td>0.668757</td>\n",
       "      <td>2.043472</td>\n",
       "      <td>-2.643853</td>\n",
       "      <td>1.329935</td>\n",
       "      <td>-2.210888</td>\n",
       "      <td>-2.007608</td>\n",
       "      <td>...</td>\n",
       "      <td>0.774587</td>\n",
       "      <td>0.386319</td>\n",
       "      <td>0.501365</td>\n",
       "      <td>-2.406939</td>\n",
       "      <td>-0.897188</td>\n",
       "      <td>0.785342</td>\n",
       "      <td>1.719547</td>\n",
       "      <td>1.565029</td>\n",
       "      <td>1.475988</td>\n",
       "      <td>2.158263</td>\n",
       "    </tr>\n",
       "  </tbody>\n",
       "</table>\n",
       "<p>5 rows × 100 columns</p>\n",
       "</div>"
      ],
      "text/plain": [
       "                          PC_1       PC_2       PC_3       PC_4      PC_5  \\\n",
       "CellID                                                                      \n",
       "TCAGCTCCACTGTTAG_18  -4.992897   1.977498   2.635594   0.294221 -0.352566   \n",
       "TGCTGCTTCGTGGTCG_24  10.464980  -4.179799  10.248424  13.373024 -0.398263   \n",
       "TAAACCGAGCCAGTTT_23  11.897502  10.368381  -9.752729  -0.730838 -6.437631   \n",
       "GTAGTCACAGACAAGC_16   0.143768  -8.355670  -4.339652  -0.964086  1.019567   \n",
       "CTAATGGGTCCAACTA_14  -4.288423   1.525256   2.442547  -1.382999  0.668757   \n",
       "\n",
       "                         PC_6      PC_7      PC_8      PC_9     PC_10  ...  \\\n",
       "CellID                                                                 ...   \n",
       "TCAGCTCCACTGTTAG_18  0.480022 -0.607563  0.537431  0.354954  0.988225  ...   \n",
       "TGCTGCTTCGTGGTCG_24 -1.284958  2.211709  0.475666 -0.210211  2.024235  ...   \n",
       "TAAACCGAGCCAGTTT_23 -3.039107  1.155987 -0.674261  1.225245  0.872170  ...   \n",
       "GTAGTCACAGACAAGC_16 -0.285466 -0.621729 -0.871517  0.075749 -0.569461  ...   \n",
       "CTAATGGGTCCAACTA_14  2.043472 -2.643853  1.329935 -2.210888 -2.007608  ...   \n",
       "\n",
       "                        PC_91     PC_92     PC_93     PC_94     PC_95  \\\n",
       "CellID                                                                  \n",
       "TCAGCTCCACTGTTAG_18 -0.462457  0.087501 -0.052739  0.556482  0.054646   \n",
       "TGCTGCTTCGTGGTCG_24 -1.277020  1.558242 -0.576477  0.078703  4.163578   \n",
       "TAAACCGAGCCAGTTT_23 -1.720728  2.017200 -0.437286 -0.466728  1.741292   \n",
       "GTAGTCACAGACAAGC_16 -0.432216  0.092154 -0.113035 -0.005142  1.322794   \n",
       "CTAATGGGTCCAACTA_14  0.774587  0.386319  0.501365 -2.406939 -0.897188   \n",
       "\n",
       "                        PC_96     PC_97     PC_98     PC_99    PC_100  \n",
       "CellID                                                                 \n",
       "TCAGCTCCACTGTTAG_18  0.224667 -0.169349  0.542468 -0.846616  0.508633  \n",
       "TGCTGCTTCGTGGTCG_24 -2.982152  2.011843 -2.500248 -2.785146 -0.459969  \n",
       "TAAACCGAGCCAGTTT_23  2.205787  0.025304  0.891656  0.706868 -0.884583  \n",
       "GTAGTCACAGACAAGC_16 -0.699368  0.830745  0.142501  0.077562 -0.580459  \n",
       "CTAATGGGTCCAACTA_14  0.785342  1.719547  1.565029  1.475988  2.158263  \n",
       "\n",
       "[5 rows x 100 columns]"
      ]
     },
     "execution_count": 17,
     "metadata": {},
     "output_type": "execute_result"
    }
   ],
   "source": [
    "PCA_X_train.head()"
   ]
  },
  {
   "cell_type": "code",
   "execution_count": 12,
   "id": "60cf2ea7",
   "metadata": {},
   "outputs": [],
   "source": [
    "y_train_file = path + \"data/y_train.csv\"\n",
    "y_train = pd.read_csv(y_train_file)"
   ]
  },
  {
   "cell_type": "code",
   "execution_count": 19,
   "id": "14b73d7a",
   "metadata": {},
   "outputs": [
    {
     "data": {
      "text/html": [
       "<div>\n",
       "<style scoped>\n",
       "    .dataframe tbody tr th:only-of-type {\n",
       "        vertical-align: middle;\n",
       "    }\n",
       "\n",
       "    .dataframe tbody tr th {\n",
       "        vertical-align: top;\n",
       "    }\n",
       "\n",
       "    .dataframe thead th {\n",
       "        text-align: right;\n",
       "    }\n",
       "</style>\n",
       "<table border=\"1\" class=\"dataframe\">\n",
       "  <thead>\n",
       "    <tr style=\"text-align: right;\">\n",
       "      <th></th>\n",
       "      <th>type</th>\n",
       "    </tr>\n",
       "    <tr>\n",
       "      <th>CellID</th>\n",
       "      <th></th>\n",
       "    </tr>\n",
       "  </thead>\n",
       "  <tbody>\n",
       "    <tr>\n",
       "      <th>TCAGCTCCACTGTTAG_18</th>\n",
       "      <td>CD4 T</td>\n",
       "    </tr>\n",
       "    <tr>\n",
       "      <th>TGCTGCTTCGTGGTCG_24</th>\n",
       "      <td>Endothelial</td>\n",
       "    </tr>\n",
       "    <tr>\n",
       "      <th>TAAACCGAGCCAGTTT_23</th>\n",
       "      <td>Tumor</td>\n",
       "    </tr>\n",
       "    <tr>\n",
       "      <th>GTAGTCACAGACAAGC_16</th>\n",
       "      <td>Myeloid</td>\n",
       "    </tr>\n",
       "    <tr>\n",
       "      <th>CTAATGGGTCCAACTA_14</th>\n",
       "      <td>CD8 T</td>\n",
       "    </tr>\n",
       "    <tr>\n",
       "      <th>...</th>\n",
       "      <td>...</td>\n",
       "    </tr>\n",
       "    <tr>\n",
       "      <th>CTACGTCAGTTACGGG_23</th>\n",
       "      <td>CD8 T</td>\n",
       "    </tr>\n",
       "    <tr>\n",
       "      <th>AGGTCATAGCTCCCAG_19</th>\n",
       "      <td>Tumor</td>\n",
       "    </tr>\n",
       "    <tr>\n",
       "      <th>GGATTACAGCACACAG_23</th>\n",
       "      <td>CD8 T</td>\n",
       "    </tr>\n",
       "    <tr>\n",
       "      <th>CGTGTCTGTTTGCATG_17</th>\n",
       "      <td>CD4 T</td>\n",
       "    </tr>\n",
       "    <tr>\n",
       "      <th>AGCTTGATCACAGGCC_24</th>\n",
       "      <td>CD4 T</td>\n",
       "    </tr>\n",
       "  </tbody>\n",
       "</table>\n",
       "<p>40348 rows × 1 columns</p>\n",
       "</div>"
      ],
      "text/plain": [
       "                            type\n",
       "CellID                          \n",
       "TCAGCTCCACTGTTAG_18        CD4 T\n",
       "TGCTGCTTCGTGGTCG_24  Endothelial\n",
       "TAAACCGAGCCAGTTT_23        Tumor\n",
       "GTAGTCACAGACAAGC_16      Myeloid\n",
       "CTAATGGGTCCAACTA_14        CD8 T\n",
       "...                          ...\n",
       "CTACGTCAGTTACGGG_23        CD8 T\n",
       "AGGTCATAGCTCCCAG_19        Tumor\n",
       "GGATTACAGCACACAG_23        CD8 T\n",
       "CGTGTCTGTTTGCATG_17        CD4 T\n",
       "AGCTTGATCACAGGCC_24        CD4 T\n",
       "\n",
       "[40348 rows x 1 columns]"
      ]
     },
     "execution_count": 19,
     "metadata": {},
     "output_type": "execute_result"
    }
   ],
   "source": [
    "y_train.set_index('CellID', inplace = True)\n",
    "y_train"
   ]
  },
  {
   "cell_type": "code",
   "execution_count": 28,
   "id": "c9c6eaa9",
   "metadata": {},
   "outputs": [
    {
     "name": "stdout",
     "output_type": "stream",
     "text": [
      "number of cell types 14\n"
     ]
    }
   ],
   "source": [
    "#number of unique labels\n",
    "print(\"number of cell types\", len(y_train.type.unique()))\n",
    "labels  = y_train.type.unique()"
   ]
  },
  {
   "cell_type": "markdown",
   "id": "78b320dc",
   "metadata": {},
   "source": [
    "Agglomerative Clustering - Given the type of data we have, I have high hopes this will be usefull."
   ]
  },
  {
   "cell_type": "code",
   "execution_count": 23,
   "id": "7080cc11",
   "metadata": {},
   "outputs": [
    {
     "data": {
      "image/png": "[encoded data removed]",
      "text/plain": [
       "<Figure size 432x288 with 1 Axes>"
      ]
     },
     "metadata": {
      "needs_background": "light"
     },
     "output_type": "display_data"
    }
   ],
   "source": [
    "# Create model and plot\n",
    "# the ward function created the model\n",
    "from scipy.cluster.hierarchy import ward, dendrogram, fcluster\n",
    "plt.figure()\n",
    "model = ward(PCA_X_train)\n",
    "dendrogram(model)\n",
    "plt.show()"
   ]
  },
  {
   "cell_type": "code",
   "execution_count": null,
   "id": "52cd4a8f",
   "metadata": {},
   "outputs": [],
   "source": []
  },
  {
   "cell_type": "markdown",
   "id": "45de6b05",
   "metadata": {},
   "source": [
    "Source:  https://joernhees.de/blog/2015/08/26/scipy-hierarchical-clustering-and-dendrogram-tutorial/"
   ]
  },
  {
   "cell_type": "code",
   "execution_count": 32,
   "id": "615b33a1",
   "metadata": {},
   "outputs": [
    {
     "data": {
      "text/plain": [
       "40348"
      ]
     },
     "execution_count": 32,
     "metadata": {},
     "output_type": "execute_result"
    }
   ],
   "source": [
    "#create labels from the aggolmerative clustering to test \n",
    "k=14  # number of clusters\n",
    "agglo_labels  = fcluster(model, k, criterion='maxclust')\n",
    "len(agglo_labels)"
   ]
  },
  {
   "cell_type": "markdown",
   "id": "8e9586a2",
   "metadata": {},
   "source": [
    "If we have ground truth labels, metrics to use"
   ]
  },
  {
   "cell_type": "code",
   "execution_count": 46,
   "id": "0ccf0215",
   "metadata": {},
   "outputs": [],
   "source": [
    "from sklearn import metrics\n",
    "agglo_adjrand = metrics.adjusted_rand_score(y_train.type.values, agglo_labels)\n",
    "agglo_homogeneity = metrics.homogeneity_score(y_train.type.values, agglo_labels)\n",
    "agglo_vmeasure = metrics.v_measure_score(y_train.type.values, agglo_labels)\n",
    "agglo_complete = metrics.completeness_score(y_train.type.values, agglo_labels)"
   ]
  },
  {
   "cell_type": "code",
   "execution_count": 50,
   "id": "0b6fb9e9",
   "metadata": {},
   "outputs": [
    {
     "name": "stdout",
     "output_type": "stream",
     "text": [
      "Homogeneity 0.7629973418122455\n",
      "Completeness 0.7587145328649937\n",
      "V-measure 0.7608499104248575\n",
      "Adjusted Rand Index 0.6958801369312123\n"
     ]
    }
   ],
   "source": [
    "print(\"Homogeneity\", agglo_homogeneity)\n",
    "print(\"Completeness\", agglo_complete)\n",
    "print(\"V-measure\", agglo_vmeasure)\n",
    "print(\"Adjusted Rand Index\", agglo_adjrand)\n"
   ]
  },
  {
   "cell_type": "code",
   "execution_count": 40,
   "id": "7a2e0d32",
   "metadata": {},
   "outputs": [
    {
     "data": {
      "text/plain": [
       "array(['CD4 T', 'Endothelial', 'Tumor', ..., 'CD8 T', 'CD4 T', 'CD4 T'],\n",
       "      dtype=object)"
      ]
     },
     "execution_count": 40,
     "metadata": {},
     "output_type": "execute_result"
    }
   ],
   "source": [
    "y_train.type.values"
   ]
  },
  {
   "cell_type": "code",
   "execution_count": 51,
   "id": "3e6b24f2",
   "metadata": {},
   "outputs": [],
   "source": [
    "#silhoutte chart here"
   ]
  },
  {
   "cell_type": "code",
   "execution_count": null,
   "id": "fe097905",
   "metadata": {},
   "outputs": [],
   "source": []
  }
 ],
 "metadata": {
  "kernelspec": {
   "display_name": "Python 3",
   "language": "python",
   "name": "python3"
  },
  "language_info": {
   "codemirror_mode": {
    "name": "ipython",
    "version": 3
   },
   "file_extension": ".py",
   "mimetype": "text/x-python",
   "name": "python",
   "nbconvert_exporter": "python",
   "pygments_lexer": "ipython3",
   "version": "3.8.10"
  }
 },
 "nbformat": 4,
 "nbformat_minor": 5
}

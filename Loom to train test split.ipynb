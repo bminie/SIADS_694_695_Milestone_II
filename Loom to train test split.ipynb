{
 "cells": [
  {
   "cell_type": "markdown",
   "id": "79e8eb92",
   "metadata": {},
   "source": [
    "Objective :  Input loom file -> output train and test split files "
   ]
  },
  {
   "cell_type": "code",
   "execution_count": 21,
   "id": "97c179b1",
   "metadata": {},
   "outputs": [],
   "source": [
    "# import libraries\n",
    "import scanpy as sp\n",
    "import pandas as pd\n",
    "import numpy as np\n",
    "import loompy\n",
    "from sklearn.model_selection import train_test_split"
   ]
  },
  {
   "cell_type": "code",
   "execution_count": 2,
   "id": "e11e91f8",
   "metadata": {},
   "outputs": [
    {
     "name": "stdout",
     "output_type": "stream",
     "text": [
      "Reading loom file . . .\n",
      "Complete!\n"
     ]
    }
   ],
   "source": [
    "# Read loom file using Scanpy, this step will take a while due to the high number of cells\n",
    "# Maybe we should consider downsampling the data set?\n",
    "loom_filepath = \"D:/milestone project/SIADS_694_695_Milestone_II/data/cells.loom\"\n",
    "print(\"Reading loom file . . .\")\n",
    "cells = sp.read_loom(loom_filepath, sparse=False)\n",
    "print(\"Complete!\")"
   ]
  },
  {
   "cell_type": "code",
   "execution_count": 23,
   "id": "bf67b30e",
   "metadata": {},
   "outputs": [
    {
     "name": "stdout",
     "output_type": "stream",
     "text": [
      "<class 'pandas.core.frame.DataFrame'>\n",
      "Index: 51770 entries, AAACATACCTGAGT_1 to TTGACTTCATAAAGGT_22\n",
      "Columns: 22956 entries, FO538757.2 to AC240274.1\n",
      "dtypes: float32(22956)\n",
      "memory usage: 4.4+ GB\n",
      "None\n"
     ]
    }
   ],
   "source": [
    "# Create a dataframe the raw counts\n",
    "cell_df = pd.DataFrame(cells.X, columns=cells.var_names, index=cells.obs_names)\n",
    "print(cell_df.info())"
   ]
  },
  {
   "cell_type": "code",
   "execution_count": 24,
   "id": "d090cb23",
   "metadata": {},
   "outputs": [
    {
     "name": "stdout",
     "output_type": "stream",
     "text": [
      "<class 'pandas.core.frame.DataFrame'>\n",
      "Index: 51770 entries, AAACATACCTGAGT_1 to TTGACTTCATAAAGGT_22\n",
      "Data columns (total 1 columns):\n",
      " #   Column  Non-Null Count  Dtype \n",
      "---  ------  --------------  ----- \n",
      " 0   type    51770 non-null  object\n",
      "dtypes: object(1)\n",
      "memory usage: 2.8+ MB\n",
      "None\n"
     ]
    }
   ],
   "source": [
    "target = pd.DataFrame(cells.obs.type)\n",
    "print(target.info())"
   ]
  },
  {
   "cell_type": "code",
   "execution_count": 25,
   "id": "87bde43a",
   "metadata": {},
   "outputs": [],
   "source": [
    "# add the target values to the data froma \n",
    "cell_df = cell_df.merge(target, how='outer', left_index=True, right_index=True)"
   ]
  },
  {
   "cell_type": "code",
   "execution_count": 27,
   "id": "1f35c348",
   "metadata": {},
   "outputs": [
    {
     "name": "stdout",
     "output_type": "stream",
     "text": [
      "<class 'pandas.core.frame.DataFrame'>\n",
      "Index: 51770 entries, AAACATACCTGAGT_1 to TTGACTTCATAAAGGT_22\n",
      "Columns: 22957 entries, FO538757.2 to type\n",
      "dtypes: float32(22956), object(1)\n",
      "memory usage: 4.4+ GB\n",
      "None\n"
     ]
    }
   ],
   "source": [
    "# taking a look at the data, looks sparse\n",
    "cell_df.sample(20)\n",
    "print(cell_df.info())"
   ]
  },
  {
   "cell_type": "code",
   "execution_count": 14,
   "id": "b32bd155",
   "metadata": {},
   "outputs": [
    {
     "name": "stdout",
     "output_type": "stream",
     "text": [
      "CD4 T\n",
      "CD8 T\n",
      "B cell\n",
      "RBC\n",
      "Tumor\n",
      "Myeloid\n",
      "Stromal\n",
      "?\n",
      "pDC\n",
      "Endothelial\n",
      "NK\n",
      "Mast\n",
      "DC\n",
      "Alveolar\n",
      "Epithelial\n"
     ]
    }
   ],
   "source": [
    "# types of cells\n",
    "for item in cell_df.type.unique():\n",
    "    print (item)"
   ]
  },
  {
   "cell_type": "code",
   "execution_count": 18,
   "id": "e574a495",
   "metadata": {},
   "outputs": [],
   "source": [
    "# filter out '?'\n",
    "cell_df = cell_df[cell_df.type != '?']"
   ]
  },
  {
   "cell_type": "code",
   "execution_count": 22,
   "id": "8a08eb1d",
   "metadata": {},
   "outputs": [
    {
     "name": "stdout",
     "output_type": "stream",
     "text": [
      "['CD4 T' 'CD8 T' 'B cell' 'RBC' 'Tumor' 'Myeloid' 'Stromal' 'pDC'\n",
      " 'Endothelial' 'NK' 'Mast' 'DC' 'Alveolar' 'Epithelial']\n",
      "<class 'pandas.core.frame.DataFrame'>\n",
      "Index: 50435 entries, AAACATACCTGAGT_1 to TTGACTTCATAAAGGT_22\n",
      "Columns: 22957 entries, FO538757.2 to type\n",
      "dtypes: float32(22956), object(1)\n",
      "memory usage: 4.3+ GB\n",
      "None\n"
     ]
    }
   ],
   "source": [
    "print(cell_df.type.unique())\n",
    "print(cell_df.info())"
   ]
  },
  {
   "cell_type": "code",
   "execution_count": 30,
   "id": "e48a7199",
   "metadata": {},
   "outputs": [
    {
     "data": {
      "text/plain": [
       "CellID\n",
       "AAACATACCTGAGT_1         CD4 T\n",
       "AAAGAGACATCGTG_1         CD4 T\n",
       "AACGCATGCTTAGG_1         CD4 T\n",
       "AACTGTCTTGACAC_1         CD4 T\n",
       "AAGAATCTCATGAC_1         CD4 T\n",
       "                        ...   \n",
       "TGGTTCCCAAACGTGG_22    Stromal\n",
       "TTAGTTCTCGCGGATC_22    Stromal\n",
       "TTCGGTCCAGACAAGC_22    Stromal\n",
       "TTCTCCTCATGTCGAT_22    Stromal\n",
       "TTGACTTCATAAAGGT_22    Stromal\n",
       "Name: type, Length: 51770, dtype: object"
      ]
     },
     "execution_count": 30,
     "metadata": {},
     "output_type": "execute_result"
    }
   ],
   "source": [
    "cell_df['type']"
   ]
  },
  {
   "cell_type": "code",
   "execution_count": 32,
   "id": "d9fc17bf",
   "metadata": {},
   "outputs": [],
   "source": [
    "# Shuffle defaults to true, stratifing to make sure each cell type represented\n",
    "X_train, X_test, y_train, y_test = train_test_split(cell_df.drop('type', axis = 1),\n",
    "                                                    cell_df['type'],\n",
    "                                                    test_size=0.20, stratify = cell_df['type'],\n",
    "                                                    random_state=42)"
   ]
  },
  {
   "cell_type": "code",
   "execution_count": 38,
   "id": "dff49bd2",
   "metadata": {},
   "outputs": [
    {
     "name": "stdout",
     "output_type": "stream",
     "text": [
      "shape x train (41416, 22956)\n",
      "shape x test (10354, 22956)\n",
      "shape y train (41416,)\n",
      "shape y test (10354,)\n"
     ]
    }
   ],
   "source": [
    "print(\"shape x train\", X_train.shape)\n",
    "print(\"shape x test\", X_test.shape)\n",
    "print(\"shape y train\", y_train.shape)\n",
    "print(\"shape y test\", y_test.shape)"
   ]
  },
  {
   "cell_type": "code",
   "execution_count": 50,
   "id": "3979d8b5",
   "metadata": {},
   "outputs": [],
   "source": [
    "# create csv files for downstream use\n",
    "# fyi not normalized, due to data leakage i think here would be an appropriate place to normalize,\n",
    "# or in the next step of pipeline\n",
    "my_path = \"D:/milestone project/SIADS_694_695_Milestone_II/data/\"\n",
    "X_train.to_csv(my_path+\"X_train.csv\")\n",
    "X_test.to_csv(my_path+\"X_test.csv\")\n",
    "y_train.to_csv(my_path+\"y_train.csv\")\n",
    "y_test.to_csv(my_path+\"y_test.csv\")"
   ]
  },
  {
   "cell_type": "code",
   "execution_count": null,
   "id": "fc288c96",
   "metadata": {},
   "outputs": [],
   "source": []
  },
  {
   "cell_type": "code",
   "execution_count": null,
   "id": "c554d8d3",
   "metadata": {},
   "outputs": [],
   "source": []
  },
  {
   "cell_type": "code",
   "execution_count": null,
   "id": "59210df9",
   "metadata": {},
   "outputs": [],
   "source": []
  }
 ],
 "metadata": {
  "kernelspec": {
   "display_name": "Python 3",
   "language": "python",
   "name": "python3"
  },
  "language_info": {
   "codemirror_mode": {
    "name": "ipython",
    "version": 3
   },
   "file_extension": ".py",
   "mimetype": "text/x-python",
   "name": "python",
   "nbconvert_exporter": "python",
   "pygments_lexer": "ipython3",
   "version": "3.8.10"
  }
 },
 "nbformat": 4,
 "nbformat_minor": 5
}

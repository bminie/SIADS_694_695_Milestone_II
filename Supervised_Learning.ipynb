{
 "cells": [
  {
   "cell_type": "markdown",
   "metadata": {},
   "source": [
    "# Supervised Learning"
   ]
  },
  {
   "cell_type": "markdown",
   "metadata": {},
   "source": [
    "The goal of this notebook is to demonstrate the use of supervised learning algorithms to predict the cell types for single cell RNAseq data.\n",
    "The cells in the training and test data sets have been labeled by a teams of experts in the field and will be used as input into the different supervised learning algorithms"
   ]
  },
  {
   "cell_type": "markdown",
   "metadata": {},
   "source": [
    "## Library Imports and Data Loading"
   ]
  },
  {
   "cell_type": "code",
   "execution_count": 44,
   "metadata": {},
   "outputs": [],
   "source": [
    "# Import libraries\n",
    "%matplotlib inline\n",
    "import matplotlib.pyplot as plt\n",
    "import scanpy as sp\n",
    "import pandas as pd\n",
    "import numpy as np\n",
    "import seaborn as sns\n",
    "import loompy\n",
    "\n",
    "from sklearn.metrics import accuracy_score\n",
    "from sklearn.metrics import confusion_matrix\n",
    "from sklearn.metrics import classification_report\n",
    "\n",
    "RANDOM_SEED = 42"
   ]
  },
  {
   "cell_type": "code",
   "execution_count": 26,
   "metadata": {},
   "outputs": [],
   "source": [
    "# Data Loading\n",
    "X_train = pd.read_csv(\"data/X_train_pca.csv\")\n",
    "y_train = pd.read_csv(\"data/y_train.csv\")\n",
    "X_test = pd.read_csv(\"data/X_test_pca.csv\")\n",
    "y_test = pd.read_csv(\"data/y_test.csv\")\n",
    "\n",
    "X_train.rename(columns={\"Unnamed: 0\": \"CellID\"}, inplace=True)\n",
    "X_train.set_index(\"CellID\", inplace=True)\n",
    "y_train.set_index(\"CellID\", inplace=True)\n",
    "\n",
    "X_test.rename(columns={\"Unnamed: 0\": \"CellID\"}, inplace=True)\n",
    "X_test.set_index(\"CellID\", inplace=True)\n",
    "y_test.set_index(\"CellID\", inplace=True)"
   ]
  },
  {
   "cell_type": "code",
   "execution_count": 55,
   "metadata": {},
   "outputs": [],
   "source": [
    "def print_accuracy_report(model, model_name):\n",
    "    print(\"{} Training Set Accuracy: {}\".format(model_name, model.score(X_train, y_train['type'])))\n",
    "    print(\"{} Test Set Accuracy: {}\".format(model_name, model.score(X_test, y_test['type'])))\n",
    "    print(\"\\nClassification Report for {}\\n{}\".format(model_name, classification_report(y_test['type'], model.predict(X_test), zero_division=0)))"
   ]
  },
  {
   "cell_type": "markdown",
   "metadata": {},
   "source": [
    "## Algorithm Testing"
   ]
  },
  {
   "cell_type": "markdown",
   "metadata": {},
   "source": [
    "### K Nearest Neighbors"
   ]
  },
  {
   "cell_type": "markdown",
   "metadata": {},
   "source": [
    "This was done in a previous notebook and will be reproduced here so it can be included with the other comparisons"
   ]
  },
  {
   "cell_type": "code",
   "execution_count": 56,
   "metadata": {},
   "outputs": [
    {
     "name": "stdout",
     "output_type": "stream",
     "text": [
      "kNN with k=15 Training Set Accuracy: 0.9488202637057599\n",
      "kNN with k=15 Test Set Accuracy: 0.7623674035887776\n",
      "\n",
      "Classification Report for kNN with k=15\n",
      "              precision    recall  f1-score   support\n",
      "\n",
      "    Alveolar       0.99      0.95      0.97        92\n",
      "      B cell       0.00      0.00      0.00       855\n",
      "       CD4 T       0.59      0.91      0.71      2119\n",
      "       CD8 T       0.70      0.79      0.74      2503\n",
      "          DC       0.00      0.00      0.00       101\n",
      " Endothelial       1.00      0.94      0.97       317\n",
      "  Epithelial       1.00      0.88      0.94        43\n",
      "        Mast       0.98      0.99      0.99       117\n",
      "     Myeloid       0.93      0.93      0.93      1810\n",
      "          NK       0.00      0.00      0.00       176\n",
      "         RBC       0.00      0.00      0.00       187\n",
      "     Stromal       1.00      0.89      0.94       306\n",
      "       Tumor       0.98      0.90      0.93      1441\n",
      "         pDC       0.00      0.00      0.00        20\n",
      "\n",
      "    accuracy                           0.76     10087\n",
      "   macro avg       0.58      0.58      0.58     10087\n",
      "weighted avg       0.69      0.76      0.72     10087\n",
      "\n"
     ]
    }
   ],
   "source": [
    "from sklearn.neighbors import KNeighborsClassifier\n",
    "\n",
    "knn = KNeighborsClassifier(n_neighbors = 15).fit(X_train, y_train['type'])\n",
    "print_accuracy_report(knn, \"kNN with k=15\")"
   ]
  },
  {
   "cell_type": "markdown",
   "metadata": {},
   "source": [
    "### Dummy Classifier"
   ]
  },
  {
   "cell_type": "code",
   "execution_count": 49,
   "metadata": {},
   "outputs": [
    {
     "name": "stdout",
     "output_type": "stream",
     "text": [
      "Most-Frequent Dummy Classifier Training Set Accuracy: 0.24819074055715276\n",
      "Most-Frequent Dummy Classifier Test Set Accuracy: 0.24814117180529394\n",
      "\n",
      "Classification Report for Most-Frequent Dummy Classifier\n",
      "              precision    recall  f1-score   support\n",
      "\n",
      "    Alveolar       0.00      0.00      0.00        92\n",
      "      B cell       0.00      0.00      0.00       855\n",
      "       CD4 T       0.00      0.00      0.00      2119\n",
      "       CD8 T       0.25      1.00      0.40      2503\n",
      "          DC       0.00      0.00      0.00       101\n",
      " Endothelial       0.00      0.00      0.00       317\n",
      "  Epithelial       0.00      0.00      0.00        43\n",
      "        Mast       0.00      0.00      0.00       117\n",
      "     Myeloid       0.00      0.00      0.00      1810\n",
      "          NK       0.00      0.00      0.00       176\n",
      "         RBC       0.00      0.00      0.00       187\n",
      "     Stromal       0.00      0.00      0.00       306\n",
      "       Tumor       0.00      0.00      0.00      1441\n",
      "         pDC       0.00      0.00      0.00        20\n",
      "\n",
      "    accuracy                           0.25     10087\n",
      "   macro avg       0.02      0.07      0.03     10087\n",
      "weighted avg       0.06      0.25      0.10     10087\n",
      "\n",
      "\n",
      "Stratified Dummy Classifier Training Set Accuracy: 0.1679141469217805\n",
      "Stratified Dummy Classifier Test Set Accuracy: 0.17210270645385148\n",
      "\n",
      "Classification Report for Stratified Dummy Classifier\n",
      "              precision    recall  f1-score   support\n",
      "\n",
      "    Alveolar       0.00      0.00      0.00        92\n",
      "      B cell       0.08      0.08      0.08       855\n",
      "       CD4 T       0.21      0.20      0.21      2119\n",
      "       CD8 T       0.26      0.26      0.26      2503\n",
      "          DC       0.00      0.00      0.00       101\n",
      " Endothelial       0.05      0.05      0.05       317\n",
      "  Epithelial       0.02      0.02      0.02        43\n",
      "        Mast       0.01      0.01      0.01       117\n",
      "     Myeloid       0.18      0.19      0.19      1810\n",
      "          NK       0.02      0.02      0.02       176\n",
      "         RBC       0.03      0.03      0.03       187\n",
      "     Stromal       0.04      0.04      0.04       306\n",
      "       Tumor       0.15      0.15      0.15      1441\n",
      "         pDC       0.00      0.00      0.00        20\n",
      "\n",
      "    accuracy                           0.17     10087\n",
      "   macro avg       0.07      0.07      0.07     10087\n",
      "weighted avg       0.17      0.17      0.17     10087\n",
      "\n"
     ]
    }
   ],
   "source": [
    "from sklearn.dummy import DummyClassifier\n",
    "\n",
    "mostfrequent_dummy = DummyClassifier(strategy = \"most_frequent\", random_state=RANDOM_SEED).fit(X_train, y_train['type'])\n",
    "print_accuracy_report(mostfrequent_dummy, \"Most-Frequent Dummy Classifier\")\n",
    "\n",
    "stratified_dummy = DummyClassifier(strategy = \"stratified\", random_state=RANDOM_SEED).fit(X_train, y_train['type'])\n",
    "print_accuracy_report(stratified_dummy, \"Stratified Dummy Classifier\")"
   ]
  },
  {
   "cell_type": "markdown",
   "metadata": {},
   "source": [
    "### Support Vector Machine Classifier"
   ]
  },
  {
   "cell_type": "code",
   "execution_count": 50,
   "metadata": {},
   "outputs": [
    {
     "name": "stdout",
     "output_type": "stream",
     "text": [
      "SVM with C=10 Training Set Accuracy: 0.9804946961435511\n",
      "SVM with C=10 Test Set Accuracy: 0.6759195003469812\n",
      "\n",
      "Classification Report for SVM with C=10\n",
      "              precision    recall  f1-score   support\n",
      "\n",
      "    Alveolar       0.97      0.38      0.55        92\n",
      "      B cell       0.01      0.01      0.01       855\n",
      "       CD4 T       0.70      0.71      0.70      2119\n",
      "       CD8 T       0.59      0.64      0.62      2503\n",
      "          DC       0.00      0.00      0.00       101\n",
      " Endothelial       0.99      0.74      0.85       317\n",
      "  Epithelial       0.00      0.00      0.00        43\n",
      "        Mast       1.00      0.98      0.99       117\n",
      "     Myeloid       0.92      0.96      0.94      1810\n",
      "          NK       0.00      0.00      0.00       176\n",
      "         RBC       0.17      0.02      0.03       187\n",
      "     Stromal       0.53      0.96      0.69       306\n",
      "       Tumor       0.93      0.90      0.92      1441\n",
      "         pDC       0.00      0.00      0.00        20\n",
      "\n",
      "    accuracy                           0.68     10087\n",
      "   macro avg       0.49      0.45      0.45     10087\n",
      "weighted avg       0.66      0.68      0.66     10087\n",
      "\n"
     ]
    }
   ],
   "source": [
    "from sklearn.svm import SVC\n",
    "\n",
    "svm = SVC(C=10, random_state=RANDOM_SEED).fit(X_train, y_train['type'])\n",
    "print_accuracy_report(svm, \"SVM with C=10\")"
   ]
  },
  {
   "cell_type": "markdown",
   "metadata": {},
   "source": [
    "### Decision Tree"
   ]
  },
  {
   "cell_type": "code",
   "execution_count": 51,
   "metadata": {},
   "outputs": [
    {
     "name": "stdout",
     "output_type": "stream",
     "text": [
      "Decsion Tree without Max Depth Training Set Accuracy: 1.0\n",
      "Decsion Tree without Max Depth Test Set Accuracy: 0.5492217705958164\n",
      "\n",
      "Classification Report for Decision Tree without Max Depth\n",
      "              precision    recall  f1-score   support\n",
      "\n",
      "    Alveolar       0.99      0.92      0.96        92\n",
      "      B cell       0.01      0.01      0.01       855\n",
      "       CD4 T       0.67      0.64      0.65      2119\n",
      "       CD8 T       0.49      0.29      0.37      2503\n",
      "          DC       0.03      0.03      0.03       101\n",
      " Endothelial       0.96      0.96      0.96       317\n",
      "  Epithelial       0.33      0.93      0.49        43\n",
      "        Mast       0.95      0.31      0.46       117\n",
      "     Myeloid       0.85      0.89      0.87      1810\n",
      "          NK       0.09      0.02      0.03       176\n",
      "         RBC       0.11      0.16      0.13       187\n",
      "     Stromal       0.84      0.93      0.89       306\n",
      "       Tumor       0.67      0.72      0.70      1441\n",
      "         pDC       0.00      0.00      0.00        20\n",
      "\n",
      "    accuracy                           0.55     10087\n",
      "   macro avg       0.50      0.49      0.47     10087\n",
      "weighted avg       0.59      0.55      0.56     10087\n",
      "\n",
      "Decsion Tree with Max Depth=10 Training Set Accuracy: 0.971027064538515\n",
      "Decsion Tree with Max Depth=10 Test Set Accuracy: 0.6165361356201051\n",
      "\n",
      "Classification Report for Decision Tree with Max Depth=10\n",
      "              precision    recall  f1-score   support\n",
      "\n",
      "    Alveolar       0.98      0.93      0.96        92\n",
      "      B cell       0.02      0.05      0.03       855\n",
      "       CD4 T       0.71      0.71      0.71      2119\n",
      "       CD8 T       0.49      0.37      0.42      2503\n",
      "          DC       0.02      0.01      0.01       101\n",
      " Endothelial       0.97      0.97      0.97       317\n",
      "  Epithelial       0.36      0.93      0.52        43\n",
      "        Mast       0.93      0.35      0.51       117\n",
      "     Myeloid       0.89      0.94      0.91      1810\n",
      "          NK       0.25      0.01      0.01       176\n",
      "         RBC       0.15      0.16      0.15       187\n",
      "     Stromal       0.92      0.93      0.92       306\n",
      "       Tumor       0.94      0.87      0.90      1441\n",
      "         pDC       0.00      0.00      0.00        20\n",
      "\n",
      "    accuracy                           0.62     10087\n",
      "   macro avg       0.54      0.52      0.50     10087\n",
      "weighted avg       0.65      0.62      0.63     10087\n",
      "\n"
     ]
    }
   ],
   "source": [
    "from sklearn.tree import DecisionTreeClassifier\n",
    "\n",
    "decision_tree_nomd = DecisionTreeClassifier(random_state=RANDOM_SEED).fit(X_train, y_train['type'])\n",
    "print_accuracy_report(decision_tree_nomd, \"Decsion Tree without Max Depth\")\n",
    "\n",
    "decision_tree_md = DecisionTreeClassifier(max_depth=len(y_train['type'].unique()), random_state=RANDOM_SEED).fit(X_train, y_train['type'])\n",
    "print_accuracy_report(decision_tree_md, \"Decsion Tree with Max Depth={}\".format(len(y_train['type'].unique())))"
   ]
  },
  {
   "cell_type": "markdown",
   "metadata": {},
   "source": [
    "### Naive Bayes Classifiers"
   ]
  },
  {
   "cell_type": "code",
   "execution_count": 53,
   "metadata": {},
   "outputs": [
    {
     "name": "stdout",
     "output_type": "stream",
     "text": [
      "GaussianNB Training Set Accuracy: 0.9006146525230495\n",
      "GaussianNB Test Set Accuracy: 0.7235055021314564\n",
      "\n",
      "Classification Report for GaussianNB\n",
      "              precision    recall  f1-score   support\n",
      "\n",
      "    Alveolar       1.00      0.67      0.81        92\n",
      "      B cell       0.50      0.76      0.60       855\n",
      "       CD4 T       0.82      0.63      0.71      2119\n",
      "       CD8 T       0.78      0.70      0.74      2503\n",
      "          DC       0.00      0.00      0.00       101\n",
      " Endothelial       0.89      0.47      0.62       317\n",
      "  Epithelial       1.00      0.81      0.90        43\n",
      "        Mast       0.99      0.97      0.98       117\n",
      "     Myeloid       0.82      0.92      0.87      1810\n",
      "          NK       0.00      0.00      0.00       176\n",
      "         RBC       0.10      0.04      0.05       187\n",
      "     Stromal       0.45      0.97      0.62       306\n",
      "       Tumor       0.70      0.85      0.77      1441\n",
      "         pDC       0.00      0.00      0.00        20\n",
      "\n",
      "    accuracy                           0.72     10087\n",
      "   macro avg       0.57      0.56      0.55     10087\n",
      "weighted avg       0.72      0.72      0.71     10087\n",
      "\n"
     ]
    }
   ],
   "source": [
    "from sklearn.naive_bayes import GaussianNB\n",
    "\n",
    "nb = GaussianNB().fit(X_train, y_train['type'])\n",
    "print_accuracy_report(nb, \"GaussianNB\")"
   ]
  },
  {
   "cell_type": "markdown",
   "metadata": {},
   "source": [
    "### Random Forest"
   ]
  },
  {
   "cell_type": "code",
   "execution_count": 54,
   "metadata": {},
   "outputs": [
    {
     "name": "stdout",
     "output_type": "stream",
     "text": [
      "Random Forest Training Set Accuracy: 1.0\n",
      "Random Forest Test Set Accuracy: 0.755626053335977\n",
      "\n",
      "Classification Report for Random Forest\n",
      "              precision    recall  f1-score   support\n",
      "\n",
      "    Alveolar       0.98      0.98      0.98        92\n",
      "      B cell       0.24      0.19      0.21       855\n",
      "       CD4 T       0.71      0.78      0.75      2119\n",
      "       CD8 T       0.66      0.75      0.70      2503\n",
      "          DC       0.00      0.00      0.00       101\n",
      " Endothelial       0.99      0.98      0.98       317\n",
      "  Epithelial       0.83      0.12      0.20        43\n",
      "        Mast       0.90      0.16      0.28       117\n",
      "     Myeloid       0.92      0.99      0.96      1810\n",
      "          NK       0.00      0.00      0.00       176\n",
      "         RBC       0.00      0.00      0.00       187\n",
      "     Stromal       0.99      0.93      0.96       306\n",
      "       Tumor       0.92      0.99      0.95      1441\n",
      "         pDC       0.00      0.00      0.00        20\n",
      "\n",
      "    accuracy                           0.76     10087\n",
      "   macro avg       0.58      0.49      0.50     10087\n",
      "weighted avg       0.71      0.76      0.73     10087\n",
      "\n"
     ]
    }
   ],
   "source": [
    "from sklearn.ensemble import RandomForestClassifier\n",
    "\n",
    "random_forest = RandomForestClassifier(random_state=RANDOM_SEED).fit(X_train, y_train['type'])\n",
    "print_accuracy_report(random_forest, \"Random Forest\")"
   ]
  },
  {
   "cell_type": "markdown",
   "metadata": {},
   "source": [
    "### Gradient-boosted Decision Tree"
   ]
  },
  {
   "cell_type": "code",
   "execution_count": 57,
   "metadata": {},
   "outputs": [
    {
     "name": "stdout",
     "output_type": "stream",
     "text": [
      "Gradient-boosted Decision Tree Training Set Accuracy: 0.9736789927629622\n",
      "Gradient-boosted Decision Tree Test Set Accuracy: 0.7670268662635075\n",
      "\n",
      "Classification Report for Gradient-boosted Decision Tree\n",
      "              precision    recall  f1-score   support\n",
      "\n",
      "    Alveolar       0.94      0.63      0.75        92\n",
      "      B cell       0.30      0.31      0.31       855\n",
      "       CD4 T       0.77      0.80      0.78      2119\n",
      "       CD8 T       0.70      0.77      0.73      2503\n",
      "          DC       0.17      0.06      0.09       101\n",
      " Endothelial       0.98      0.95      0.96       317\n",
      "  Epithelial       1.00      0.05      0.09        43\n",
      "        Mast       0.99      0.98      0.99       117\n",
      "     Myeloid       0.92      0.98      0.95      1810\n",
      "          NK       0.07      0.01      0.02       176\n",
      "         RBC       0.24      0.04      0.07       187\n",
      "     Stromal       0.84      0.89      0.86       306\n",
      "       Tumor       0.93      0.92      0.93      1441\n",
      "         pDC       0.00      0.00      0.00        20\n",
      "\n",
      "    accuracy                           0.77     10087\n",
      "   macro avg       0.63      0.53      0.54     10087\n",
      "weighted avg       0.75      0.77      0.75     10087\n",
      "\n"
     ]
    }
   ],
   "source": [
    "from sklearn.ensemble import GradientBoostingClassifier\n",
    "\n",
    "gbdt = GradientBoostingClassifier(random_state=RANDOM_SEED).fit(X_train, y_train['type'])\n",
    "print_accuracy_report(gbdt, \"Gradient-boosted Decision Tree\")"
   ]
  },
  {
   "cell_type": "markdown",
   "metadata": {},
   "source": [
    "### Neural Network"
   ]
  },
  {
   "cell_type": "code",
   "execution_count": 58,
   "metadata": {},
   "outputs": [
    {
     "name": "stdout",
     "output_type": "stream",
     "text": [
      "Neural Network with 1 layer, 100 units Training Set Accuracy: 0.9915733121839992\n",
      "Neural Network with 1 layer, 100 units Test Set Accuracy: 0.6808763755328641\n",
      "\n",
      "Classification Report for Neural Network with 1 layer, 100 units\n",
      "              precision    recall  f1-score   support\n",
      "\n",
      "    Alveolar       0.97      0.98      0.97        92\n",
      "      B cell       0.01      0.01      0.01       855\n",
      "       CD4 T       0.63      0.70      0.66      2119\n",
      "       CD8 T       0.61      0.67      0.64      2503\n",
      "          DC       0.00      0.00      0.00       101\n",
      " Endothelial       0.99      0.98      0.99       317\n",
      "  Epithelial       1.00      0.05      0.09        43\n",
      "        Mast       1.00      0.88      0.94       117\n",
      "     Myeloid       0.91      0.94      0.92      1810\n",
      "          NK       0.05      0.01      0.01       176\n",
      "         RBC       0.09      0.02      0.03       187\n",
      "     Stromal       0.93      0.95      0.94       306\n",
      "       Tumor       0.96      0.83      0.89      1441\n",
      "         pDC       0.00      0.00      0.00        20\n",
      "\n",
      "    accuracy                           0.68     10087\n",
      "   macro avg       0.58      0.50      0.51     10087\n",
      "weighted avg       0.67      0.68      0.67     10087\n",
      "\n",
      "Neural Network with 2 layers, 10 units each Training Set Accuracy: 0.9668880737583028\n",
      "Neural Network with 2 layers, 10 units each Test Set Accuracy: 0.6395360364826014\n",
      "\n",
      "Classification Report for Neural Network with 2 layers, 10 units each\n",
      "              precision    recall  f1-score   support\n",
      "\n",
      "    Alveolar       0.94      0.96      0.95        92\n",
      "      B cell       0.00      0.01      0.00       855\n",
      "       CD4 T       0.66      0.66      0.66      2119\n",
      "       CD8 T       0.54      0.54      0.54      2503\n",
      "          DC       0.09      0.01      0.02       101\n",
      " Endothelial       0.98      0.97      0.97       317\n",
      "  Epithelial       0.97      0.81      0.89        43\n",
      "        Mast       0.99      0.98      0.99       117\n",
      "     Myeloid       0.89      0.95      0.92      1810\n",
      "          NK       0.12      0.01      0.01       176\n",
      "         RBC       0.13      0.05      0.07       187\n",
      "     Stromal       0.92      0.94      0.93       306\n",
      "       Tumor       0.94      0.79      0.86      1441\n",
      "         pDC       0.00      0.00      0.00        20\n",
      "\n",
      "    accuracy                           0.64     10087\n",
      "   macro avg       0.58      0.55      0.56     10087\n",
      "weighted avg       0.65      0.64      0.64     10087\n",
      "\n"
     ]
    }
   ],
   "source": [
    "from sklearn.neural_network import MLPClassifier\n",
    "\n",
    "neural_net_100 = MLPClassifier(hidden_layer_sizes=[100], alpha=0.1, random_state=RANDOM_SEED).fit(X_train, y_train['type'])\n",
    "print_accuracy_report(neural_net_100, \"Neural Network with 1 layer, 100 units\")\n",
    "neural_net_2_10 = MLPClassifier(hidden_layer_sizes=[10, 10], alpha=0.1, random_state=RANDOM_SEED).fit(X_train, y_train['type'])\n",
    "print_accuracy_report(neural_net_2_10, \"Neural Network with 2 layers, 10 units each\")"
   ]
  },
  {
   "cell_type": "code",
   "execution_count": null,
   "metadata": {},
   "outputs": [],
   "source": []
  }
 ],
 "metadata": {
  "kernelspec": {
   "display_name": "Python 3",
   "language": "python",
   "name": "python3"
  },
  "language_info": {
   "codemirror_mode": {
    "name": "ipython",
    "version": 3
   },
   "file_extension": ".py",
   "mimetype": "text/x-python",
   "name": "python",
   "nbconvert_exporter": "python",
   "pygments_lexer": "ipython3",
   "version": "3.6.13"
  }
 },
 "nbformat": 4,
 "nbformat_minor": 4
}
